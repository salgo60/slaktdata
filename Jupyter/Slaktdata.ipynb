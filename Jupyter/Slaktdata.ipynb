{
 "cells": [
  {
   "cell_type": "markdown",
   "id": "06c4eace",
   "metadata": {},
   "source": [
    "#### Test att hämta data slaktfata\n",
    "* [Denna notebook](https://github.com/salgo60/Slaktdata/blob/master/Slaktdata.ipynb)\n"
   ]
  },
  {
   "cell_type": "code",
   "execution_count": 8,
   "id": "7469d429",
   "metadata": {},
   "outputs": [
    {
     "name": "stdout",
     "output_type": "stream",
     "text": [
      "Last run:  2021-09-13 09:22:43.474427\n"
     ]
    }
   ],
   "source": [
    "from datetime import datetime\n",
    "start_time  = datetime.now()\n",
    "print(\"Last run: \", start_time)"
   ]
  },
  {
   "cell_type": "code",
   "execution_count": 84,
   "id": "88a590de",
   "metadata": {},
   "outputs": [
    {
     "name": "stdout",
     "output_type": "stream",
     "text": [
      "https://www.slaktdata.org/?p=getregbyid&sldid=156206_F7_710\n"
     ]
    },
    {
     "data": {
      "text/plain": [
       "Index(['success', 'res', 'message'], dtype='object')"
      ]
     },
     "execution_count": 84,
     "metadata": {},
     "output_type": "execute_result"
    }
   ],
   "source": [
    "import urllib3, json\n",
    "import pandas as pd \n",
    "from pandas.io.json import json_normalize\n",
    "\n",
    "http = urllib3.PoolManager() \n",
    "\n",
    "urlbase= \"https://www.slaktdata.org\"\n",
    "url = urlbase + \"/?p=getregbyid&sldid=156206_F7_710\"\n",
    "print(url)\n",
    "r = http.request('GET', urlbase + \"?p=getregbyid&sldid=156206_F7_710\",\n",
    "                 headers={'Content-Type': 'application/json'})\n",
    "df=pd.read_json(r.data) \n",
    "df.columns\n",
    "\n",
    "\n"
   ]
  },
  {
   "cell_type": "code",
   "execution_count": 83,
   "id": "0fd7c5b9",
   "metadata": {},
   "outputs": [
    {
     "data": {
      "text/plain": [
       "adexkluderat                                                 None\n",
       "adid                                                         None\n",
       "adress                       Norra Leksburg i Gök Tuns församling\n",
       "antal                                                         996\n",
       "bildaid                                                      None\n",
       "download                                                     True\n",
       "dpdatum                                                      None\n",
       "enamn                                                        None\n",
       "fdatum                                                 1878-01-11\n",
       "fnamn                                              Johan Reinhold\n",
       "fsg                                      Västerlanda (O) Bohuslän\n",
       "info            Reg.av: Håkan Andersson, Uddevalla, december 2...\n",
       "kalder                                                       None\n",
       "kalla           Reg.av: Håkan Andersson, Uddevalla, december 2...\n",
       "kenamn                                                  Bergqvist\n",
       "kfnamn                                            Clara Christina\n",
       "kon                                                             M\n",
       "ktitel                                                       None\n",
       "last_updated                                           2020-12-08\n",
       "licens                                           Licens: cc-by-nc\n",
       "lopnr                                                         710\n",
       "menamn                                                  Bergqvist\n",
       "mfnamn                                                      Johan\n",
       "mtitel                                                  Arbetaren\n",
       "nadress                                                      None\n",
       "ordnr                                                        None\n",
       "ovr1                                                         None\n",
       "ovr2                                                         None\n",
       "ovr3                                                         None\n",
       "period                                                  1877-1894\n",
       "regav                  Håkan Andersson, Uddevalla, december 2020.\n",
       "scbkod                                                     156206\n",
       "sdsuffix                                                       F7\n",
       "sidnr                                                        None\n",
       "uppdaterat                                                   None\n",
       "web                                                              \n",
       "Name: res, dtype: object"
      ]
     },
     "execution_count": 83,
     "metadata": {},
     "output_type": "execute_result"
    }
   ],
   "source": [
    "df[\"res\"]"
   ]
  },
  {
   "cell_type": "code",
   "execution_count": null,
   "id": "8e6a1960",
   "metadata": {},
   "outputs": [],
   "source": [
    "url= \"https://portrattarkiv.se/endpoints/search.php\"\n",
    "\n",
    "\n",
    "encoded_body = json.dumps({\n",
    "        \"fsg\": \"Röke\",\n",
    "        \"lansbokstav\": \"K\",\n",
    "    })\n",
    "  "
   ]
  }
 ],
 "metadata": {
  "kernelspec": {
   "display_name": "Python 3",
   "language": "python",
   "name": "python3"
  },
  "language_info": {
   "codemirror_mode": {
    "name": "ipython",
    "version": 3
   },
   "file_extension": ".py",
   "mimetype": "text/x-python",
   "name": "python",
   "nbconvert_exporter": "python",
   "pygments_lexer": "ipython3",
   "version": "3.9.4"
  }
 },
 "nbformat": 4,
 "nbformat_minor": 5
}
