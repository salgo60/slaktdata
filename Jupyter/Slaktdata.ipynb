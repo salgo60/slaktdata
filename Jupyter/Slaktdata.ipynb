{
 "cells": [
  {
   "cell_type": "markdown",
   "id": "51396c0b",
   "metadata": {},
   "source": [
    "#### Test att hämta data slaktfata\n",
    "* [Denna notebook](https://github.com/salgo60/Slaktdata/blob/master/Slaktdata.ipynb)\n"
   ]
  }
 ],
 "metadata": {
  "kernelspec": {
   "display_name": "Python 3",
   "language": "python",
   "name": "python3"
  },
  "language_info": {
   "codemirror_mode": {
    "name": "ipython",
    "version": 3
   },
   "file_extension": ".py",
   "mimetype": "text/x-python",
   "name": "python",
   "nbconvert_exporter": "python",
   "pygments_lexer": "ipython3",
   "version": "3.9.4"
  }
 },
 "nbformat": 4,
 "nbformat_minor": 5
}
